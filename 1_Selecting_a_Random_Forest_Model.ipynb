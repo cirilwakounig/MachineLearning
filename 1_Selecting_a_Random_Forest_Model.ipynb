{
  "nbformat": 4,
  "nbformat_minor": 0,
  "metadata": {
    "colab": {
      "name": "1. Selecting a Random Forest Model",
      "provenance": [],
      "collapsed_sections": [],
      "mount_file_id": "1TV04xkUKaBTE2BKfaxh2bYxQL8JkBrku",
      "authorship_tag": "ABX9TyNBsueuHbI3ePBnCHMRy1QC",
      "include_colab_link": true
    },
    "kernelspec": {
      "name": "python3",
      "display_name": "Python 3"
    }
  },
  "cells": [
    {
      "cell_type": "markdown",
      "metadata": {
        "id": "view-in-github",
        "colab_type": "text"
      },
      "source": [
        "<a href=\"https://colab.research.google.com/github/cirilwakounig/MachineLearning/blob/main/1_Selecting_a_Random_Forest_Model.ipynb\" target=\"_parent\"><img src=\"https://colab.research.google.com/assets/colab-badge.svg\" alt=\"Open In Colab\"/></a>"
      ]
    },
    {
      "cell_type": "markdown",
      "metadata": {
        "id": "ScdlmEBiyPva"
      },
      "source": [
        "## Introduction to Machine Learning on Kaggle\r\n",
        "\r\n",
        "This script is based on the course 'Intermediate Machine Learning found on Kaggle'. The goal is to select the optimal model out of multiple different random forest models\r\n"
      ]
    },
    {
      "cell_type": "code",
      "metadata": {
        "id": "fvldgAJsiKYx"
      },
      "source": [
        "# Import the required libraries\r\n",
        "import pandas as pd\r\n",
        "import numpy as np\r\n",
        "import matplotlib.pyplot as plt\r\n",
        "\r\n",
        "from sklearn.model_selection import train_test_split\r\n",
        "from sklearn.ensemble import RandomForestRegressor\r\n",
        "from sklearn.metrics import mean_absolute_error"
      ],
      "execution_count": null,
      "outputs": []
    },
    {
      "cell_type": "markdown",
      "metadata": {
        "id": "FUEcErhmyV5X"
      },
      "source": [
        "#### 1. Importing and Preparing your Data\r\n",
        "\r\n",
        "---\r\n",
        "\r\n",
        "\r\n",
        "\r\n",
        "\r\n",
        "\r\n"
      ]
    },
    {
      "cell_type": "code",
      "metadata": {
        "id": "LnzP5hLxxzI0"
      },
      "source": [
        "# Path of the file to read\r\n",
        "train_path = '/content/drive/MyDrive/Colab Notebooks/Kaggle Course/Intermediate Machine Learning/train.csv'\r\n",
        "test_path = '/content/drive/MyDrive/Colab Notebooks/Kaggle Course/Intermediate Machine Learning/test.csv'\r\n",
        "\r\n",
        "# Fill in the line below to read the file into a variable home_data\r\n",
        "X_train_full = pd.read_csv(train_path, index_col = 'Id')\r\n",
        "X_test_full = pd.read_csv(test_path, index_col= 'Id')\r\n",
        "\r\n",
        "# Define the feature parameters for the model\r\n",
        "features = ['LotArea', 'YearBuilt', '1stFlrSF', '2ndFlrSF', 'FullBath', 'BedroomAbvGr', 'TotRmsAbvGrd']\r\n",
        "\r\n",
        "# Develop the feature matrices based on the feature vector\r\n",
        "X = X_train_full[features].copy()\r\n",
        "X_test = X_test_full[features].copy()\r\n",
        "\r\n",
        "y = X_train_full.SalePrice"
      ],
      "execution_count": null,
      "outputs": []
    },
    {
      "cell_type": "code",
      "metadata": {
        "id": "1alc26QdiD1T"
      },
      "source": [
        "# Splitting the data into Train and Validation Sets\r\n",
        "X_train, X_val, y_train, y_val = train_test_split(X,y, train_size = 0.8, test_size = 0.2, random_state = 0)"
      ],
      "execution_count": null,
      "outputs": []
    },
    {
      "cell_type": "markdown",
      "metadata": {
        "id": "fWhoqbRVjIQm"
      },
      "source": [
        "#### 2. Model Development and Model Selection\r\n",
        "\r\n",
        "---\r\n",
        "\r\n"
      ]
    },
    {
      "cell_type": "markdown",
      "metadata": {
        "id": "pd7DOH7zjO9c"
      },
      "source": [
        "In this section, multiple Random Forest models with different parameters will be generated. "
      ]
    },
    {
      "cell_type": "code",
      "metadata": {
        "id": "pHGjR4vpjN9p"
      },
      "source": [
        "# Generate Random Forest models using the Random Forest Regressor\r\n",
        "\r\n",
        "model_1 = RandomForestRegressor(n_estimators=50, random_state=0)\r\n",
        "model_2 = RandomForestRegressor(n_estimators=100, random_state=0)\r\n",
        "model_3 = RandomForestRegressor(n_estimators=100, criterion='mae', random_state=0)\r\n",
        "model_4 = RandomForestRegressor(n_estimators=200, min_samples_split=20, random_state=0)\r\n",
        "model_5 = RandomForestRegressor(n_estimators=100, max_depth=7, random_state=0)\r\n",
        "\r\n",
        "models = [model_1, model_2, model_3, model_4, model_5]\r\n",
        "model_names = ['m1','m2','m3','m4','m5']"
      ],
      "execution_count": null,
      "outputs": []
    },
    {
      "cell_type": "code",
      "metadata": {
        "id": "K1q4eVyolLZ2"
      },
      "source": [
        "# Develop a function that scores the model performance based on MAE\r\n",
        "\r\n",
        "def get_mae(model, X_train, y_train, X_val, y_val):\r\n",
        "\r\n",
        "  # Define Model and fit to training data\r\n",
        "  model.fit(X_train, y_train)\r\n",
        "\r\n",
        "  # Make Predictions\r\n",
        "  pred_train = model.predict(X_train)\r\n",
        "  pred_val = model.predict(X_val)\r\n",
        "\r\n",
        "  # Calculate errors\r\n",
        "  mae_train = mean_absolute_error(y_train, pred_train)\r\n",
        "  mae_val = mean_absolute_error(y_val, pred_val)\r\n",
        "\r\n",
        "  return (mae_train, mae_val)"
      ],
      "execution_count": null,
      "outputs": []
    },
    {
      "cell_type": "code",
      "metadata": {
        "id": "Zi0cuqQVl69p"
      },
      "source": [
        "# Iterate over the various models using the get_mae() function to score each models' performance\r\n",
        "\r\n",
        "errors_train = []\r\n",
        "errors_val = []\r\n",
        "\r\n",
        "for i in models:\r\n",
        "  mae_train, mae_val = get_mae(i, X_train, y_train, X_val, y_val) \r\n",
        "  errors_train.append(mae_train)\r\n",
        "  errors_val.append(mae_val) "
      ],
      "execution_count": null,
      "outputs": []
    },
    {
      "cell_type": "code",
      "metadata": {
        "colab": {
          "base_uri": "https://localhost:8080/",
          "height": 282
        },
        "id": "9wUTHzU5mS5r",
        "outputId": "8ab2cbdc-61e6-4c17-fd9e-65ea4ae15cc6"
      },
      "source": [
        "plt.plot(model_names, errors_train)\r\n",
        "plt.plot(model_names, errors_val)"
      ],
      "execution_count": null,
      "outputs": [
        {
          "output_type": "execute_result",
          "data": {
            "text/plain": [
              "[<matplotlib.lines.Line2D at 0x7f5739539e48>]"
            ]
          },
          "metadata": {
            "tags": []
          },
          "execution_count": 20
        },
        {
          "output_type": "display_data",
          "data": {
            "image/png": "[encoded data removed]",
            "text/plain": [
              "<Figure size 432x288 with 1 Axes>"
            ]
          },
          "metadata": {
            "tags": [],
            "needs_background": "light"
          }
        }
      ]
    },
    {
      "cell_type": "code",
      "metadata": {
        "colab": {
          "base_uri": "https://localhost:8080/"
        },
        "id": "5AD4nr9PnN_w",
        "outputId": "85268663-d5a7-4787-9dcc-ecc55b5e966c"
      },
      "source": [
        "# Select the best model based on MAE-performance\r\n",
        "opt_index = errors_val.index(min(errors_val))\r\n",
        "optim_model = model_names[opt_index]\r\n",
        "print('The best model is the model called:', optim_model)"
      ],
      "execution_count": null,
      "outputs": [
        {
          "output_type": "stream",
          "text": [
            "The best model is the model called: m3\n"
          ],
          "name": "stdout"
        }
      ]
    }
  ]
}