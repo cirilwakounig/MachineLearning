{
  "nbformat": 4,
  "nbformat_minor": 0,
  "metadata": {
    "colab": {
      "name": "5. Hyperparameter Tuning using Cross-Validation and Pipelining",
      "provenance": [],
      "collapsed_sections": [],
      "mount_file_id": "1KSwD0XWtf-QJg0H6J60w-rU-aUgFmxSL",
      "authorship_tag": "ABX9TyOWowa5WuevvzUWvsPbRxfb",
      "include_colab_link": true
    },
    "kernelspec": {
      "name": "python3",
      "display_name": "Python 3"
    }
  },
  "cells": [
    {
      "cell_type": "markdown",
      "metadata": {
        "id": "view-in-github",
        "colab_type": "text"
      },
      "source": [
        "<a href=\"https://colab.research.google.com/github/cirilwakounig/MachineLearning/blob/main/5_Hyperparameter_Tuning_using_Cross_Validation_and_Pipelining.ipynb\" target=\"_parent\"><img src=\"https://colab.research.google.com/assets/colab-badge.svg\" alt=\"Open In Colab\"/></a>"
      ]
    },
    {
      "cell_type": "markdown",
      "metadata": {
        "id": "lOrnVotduYiq"
      },
      "source": [
        "# Extending a Pipeling with Cross-Validation\r\n",
        "\r\n",
        "Cross-validation can be used, to better assess the performance of a model on a given data set. While the train-test-split is useful to test a model's performance, there is still some random chance, that a certain test set is better suited for the developed model. To prevent such randomness, the cross-validation approach, where multiple subsets of data are used to assess the performance of the model, is used. So-called holdout-sets (or folds) are the validation set, while the remaining data is used to train the model. This analysis is then redone for multiple folds, where each fold is constituted by a different subset of the total data.\r\n",
        "\r\n",
        "> When should Cross-Validation be used?\r\n",
        "As performing cross-validation is computationally expensive, there are limitations to its benefit. \r\n",
        "\r\n",
        "*   For small datasets, where extra computational burden is not a big deal, cross-validation can be performed.\r\n",
        "*   For larger data sets, a single validation is sufficient, as the validation set already represents the entirety of the dataset. \r\n",
        "\r\n",
        "\r\n"
      ]
    },
    {
      "cell_type": "code",
      "metadata": {
        "id": "7xvAALunuTkq"
      },
      "source": [
        "# Import the required Libraries\r\n",
        "import pandas as pd\r\n",
        "import numpy as np\r\n",
        "import matplotlib.pyplot as plt\r\n",
        "\r\n",
        "# Data Processing\r\n",
        "from sklearn.model_selection import train_test_split\r\n",
        "from sklearn.preprocessing import LabelEncoder\r\n",
        "from sklearn.impute import SimpleImputer\r\n",
        "from sklearn.preprocessing import OneHotEncoder\r\n",
        "\r\n",
        "# Pipelining\r\n",
        "from sklearn.compose import ColumnTransformer\r\n",
        "from sklearn.pipeline import Pipeline\r\n",
        "\r\n",
        "# Model Development and Validation\r\n",
        "from sklearn.ensemble import RandomForestRegressor\r\n",
        "from sklearn.model_selection import cross_val_score"
      ],
      "execution_count": null,
      "outputs": []
    },
    {
      "cell_type": "markdown",
      "metadata": {
        "id": "0vSa6KAMvtDf"
      },
      "source": [
        "#### 1. Import and Process the required Data\r\n",
        "\r\n",
        "---\r\n",
        "\r\n"
      ]
    },
    {
      "cell_type": "markdown",
      "metadata": {
        "id": "3MKjLmE-qskI"
      },
      "source": [
        "##### 1.1 Import of Data"
      ]
    },
    {
      "cell_type": "code",
      "metadata": {
        "id": "d1yKn1sdvxcL"
      },
      "source": [
        "# Import the Data Set Set\r\n",
        "file_path_train = '/content/drive/MyDrive/Colab Notebooks/Kaggle Course/Intermediate Machine Learning/train.csv'\r\n",
        "file_path_test = '/content/drive/MyDrive/Colab Notebooks/Kaggle Course/Intermediate Machine Learning/test.csv'\r\n",
        "\r\n",
        "# Read the data\r\n",
        "train_data = pd.read_csv(file_path_train, index_col = 'Id')\r\n",
        "test_data = pd.read_csv(file_path_test, index_col = 'Id')\r\n",
        "\r\n",
        "# Remove missing target values\r\n",
        "train_data.dropna(axis = 0, subset = ['SalePrice'], inplace = True)   # Inplace = True overrides existing data frame\r\n",
        "# Assign the dependent variable \r\n",
        "y = train_data.SalePrice\r\n",
        "\r\n",
        "# Separate features from target\r\n",
        "train_data.drop(['SalePrice'], axis = 1, inplace = True)"
      ],
      "execution_count": null,
      "outputs": []
    },
    {
      "cell_type": "markdown",
      "metadata": {
        "id": "hbzgoxdXqwU9"
      },
      "source": [
        "##### 1.2 Defining Categorical and Numerical Columns"
      ]
    },
    {
      "cell_type": "markdown",
      "metadata": {
        "id": "z5plhzUfmS1a"
      },
      "source": [
        "Differentiate between categorical and numerical columns."
      ]
    },
    {
      "cell_type": "code",
      "metadata": {
        "id": "-SL1jHfCmaS-"
      },
      "source": [
        "# Cardinality refers to the number of unique values in a column\r\n",
        "# Select categorical columns with relatively low cardinality (convenient but arbitrary)\r\n",
        "categorical_cols = [cname for cname in train_data.columns if \r\n",
        "                    train_data[cname].nunique() < 10 and \r\n",
        "                    train_data[cname].dtype == 'object']\r\n",
        "\r\n",
        "# Select numerical columns\r\n",
        "numerical_cols = [cname for cname in train_data.columns if \r\n",
        "                  train_data[cname].dtype in ['int64', 'float64']]"
      ],
      "execution_count": null,
      "outputs": []
    },
    {
      "cell_type": "markdown",
      "metadata": {
        "id": "xcuz8-l5lJac"
      },
      "source": [
        "\r\n",
        "\r\n",
        "> For simplicity, categorical variables are dropped. \r\n",
        "\r\n",
        "\r\n",
        "\r\n"
      ]
    },
    {
      "cell_type": "code",
      "metadata": {
        "colab": {
          "base_uri": "https://localhost:8080/",
          "height": 251
        },
        "id": "7n_Wtz4Ukal4",
        "outputId": "63c23221-a01d-4f1a-9657-afb74035671f"
      },
      "source": [
        "# Select only numerical columns for the data\r\n",
        "X = train_data[numerical_cols].copy()\r\n",
        "X_test = test_data[numerical_cols].copy()\r\n",
        "\r\n",
        "X.head()"
      ],
      "execution_count": null,
      "outputs": [
        {
          "output_type": "execute_result",
          "data": {
            "text/html": [
              "<div>\n",
              "<style scoped>\n",
              "    .dataframe tbody tr th:only-of-type {\n",
              "        vertical-align: middle;\n",
              "    }\n",
              "\n",
              "    .dataframe tbody tr th {\n",
              "        vertical-align: top;\n",
              "    }\n",
              "\n",
              "    .dataframe thead th {\n",
              "        text-align: right;\n",
              "    }\n",
              "</style>\n",
              "<table border=\"1\" class=\"dataframe\">\n",
              "  <thead>\n",
              "    <tr style=\"text-align: right;\">\n",
              "      <th></th>\n",
              "      <th>MSSubClass</th>\n",
              "      <th>LotFrontage</th>\n",
              "      <th>LotArea</th>\n",
              "      <th>OverallQual</th>\n",
              "      <th>OverallCond</th>\n",
              "      <th>YearBuilt</th>\n",
              "      <th>YearRemodAdd</th>\n",
              "      <th>MasVnrArea</th>\n",
              "      <th>BsmtFinSF1</th>\n",
              "      <th>BsmtFinSF2</th>\n",
              "      <th>BsmtUnfSF</th>\n",
              "      <th>TotalBsmtSF</th>\n",
              "      <th>1stFlrSF</th>\n",
              "      <th>2ndFlrSF</th>\n",
              "      <th>LowQualFinSF</th>\n",
              "      <th>GrLivArea</th>\n",
              "      <th>BsmtFullBath</th>\n",
              "      <th>BsmtHalfBath</th>\n",
              "      <th>FullBath</th>\n",
              "      <th>HalfBath</th>\n",
              "      <th>BedroomAbvGr</th>\n",
              "      <th>KitchenAbvGr</th>\n",
              "      <th>TotRmsAbvGrd</th>\n",
              "      <th>Fireplaces</th>\n",
              "      <th>GarageYrBlt</th>\n",
              "      <th>GarageCars</th>\n",
              "      <th>GarageArea</th>\n",
              "      <th>WoodDeckSF</th>\n",
              "      <th>OpenPorchSF</th>\n",
              "      <th>EnclosedPorch</th>\n",
              "      <th>3SsnPorch</th>\n",
              "      <th>ScreenPorch</th>\n",
              "      <th>PoolArea</th>\n",
              "      <th>MiscVal</th>\n",
              "      <th>MoSold</th>\n",
              "      <th>YrSold</th>\n",
              "    </tr>\n",
              "    <tr>\n",
              "      <th>Id</th>\n",
              "      <th></th>\n",
              "      <th></th>\n",
              "      <th></th>\n",
              "      <th></th>\n",
              "      <th></th>\n",
              "      <th></th>\n",
              "      <th></th>\n",
              "      <th></th>\n",
              "      <th></th>\n",
              "      <th></th>\n",
              "      <th></th>\n",
              "      <th></th>\n",
              "      <th></th>\n",
              "      <th></th>\n",
              "      <th></th>\n",
              "      <th></th>\n",
              "      <th></th>\n",
              "      <th></th>\n",
              "      <th></th>\n",
              "      <th></th>\n",
              "      <th></th>\n",
              "      <th></th>\n",
              "      <th></th>\n",
              "      <th></th>\n",
              "      <th></th>\n",
              "      <th></th>\n",
              "      <th></th>\n",
              "      <th></th>\n",
              "      <th></th>\n",
              "      <th></th>\n",
              "      <th></th>\n",
              "      <th></th>\n",
              "      <th></th>\n",
              "      <th></th>\n",
              "      <th></th>\n",
              "      <th></th>\n",
              "    </tr>\n",
              "  </thead>\n",
              "  <tbody>\n",
              "    <tr>\n",
              "      <th>1</th>\n",
              "      <td>60</td>\n",
              "      <td>65.0</td>\n",
              "      <td>8450</td>\n",
              "      <td>7</td>\n",
              "      <td>5</td>\n",
              "      <td>2003</td>\n",
              "      <td>2003</td>\n",
              "      <td>196.0</td>\n",
              "      <td>706</td>\n",
              "      <td>0</td>\n",
              "      <td>150</td>\n",
              "      <td>856</td>\n",
              "      <td>856</td>\n",
              "      <td>854</td>\n",
              "      <td>0</td>\n",
              "      <td>1710</td>\n",
              "      <td>1</td>\n",
              "      <td>0</td>\n",
              "      <td>2</td>\n",
              "      <td>1</td>\n",
              "      <td>3</td>\n",
              "      <td>1</td>\n",
              "      <td>8</td>\n",
              "      <td>0</td>\n",
              "      <td>2003.0</td>\n",
              "      <td>2</td>\n",
              "      <td>548</td>\n",
              "      <td>0</td>\n",
              "      <td>61</td>\n",
              "      <td>0</td>\n",
              "      <td>0</td>\n",
              "      <td>0</td>\n",
              "      <td>0</td>\n",
              "      <td>0</td>\n",
              "      <td>2</td>\n",
              "      <td>2008</td>\n",
              "    </tr>\n",
              "    <tr>\n",
              "      <th>2</th>\n",
              "      <td>20</td>\n",
              "      <td>80.0</td>\n",
              "      <td>9600</td>\n",
              "      <td>6</td>\n",
              "      <td>8</td>\n",
              "      <td>1976</td>\n",
              "      <td>1976</td>\n",
              "      <td>0.0</td>\n",
              "      <td>978</td>\n",
              "      <td>0</td>\n",
              "      <td>284</td>\n",
              "      <td>1262</td>\n",
              "      <td>1262</td>\n",
              "      <td>0</td>\n",
              "      <td>0</td>\n",
              "      <td>1262</td>\n",
              "      <td>0</td>\n",
              "      <td>1</td>\n",
              "      <td>2</td>\n",
              "      <td>0</td>\n",
              "      <td>3</td>\n",
              "      <td>1</td>\n",
              "      <td>6</td>\n",
              "      <td>1</td>\n",
              "      <td>1976.0</td>\n",
              "      <td>2</td>\n",
              "      <td>460</td>\n",
              "      <td>298</td>\n",
              "      <td>0</td>\n",
              "      <td>0</td>\n",
              "      <td>0</td>\n",
              "      <td>0</td>\n",
              "      <td>0</td>\n",
              "      <td>0</td>\n",
              "      <td>5</td>\n",
              "      <td>2007</td>\n",
              "    </tr>\n",
              "    <tr>\n",
              "      <th>3</th>\n",
              "      <td>60</td>\n",
              "      <td>68.0</td>\n",
              "      <td>11250</td>\n",
              "      <td>7</td>\n",
              "      <td>5</td>\n",
              "      <td>2001</td>\n",
              "      <td>2002</td>\n",
              "      <td>162.0</td>\n",
              "      <td>486</td>\n",
              "      <td>0</td>\n",
              "      <td>434</td>\n",
              "      <td>920</td>\n",
              "      <td>920</td>\n",
              "      <td>866</td>\n",
              "      <td>0</td>\n",
              "      <td>1786</td>\n",
              "      <td>1</td>\n",
              "      <td>0</td>\n",
              "      <td>2</td>\n",
              "      <td>1</td>\n",
              "      <td>3</td>\n",
              "      <td>1</td>\n",
              "      <td>6</td>\n",
              "      <td>1</td>\n",
              "      <td>2001.0</td>\n",
              "      <td>2</td>\n",
              "      <td>608</td>\n",
              "      <td>0</td>\n",
              "      <td>42</td>\n",
              "      <td>0</td>\n",
              "      <td>0</td>\n",
              "      <td>0</td>\n",
              "      <td>0</td>\n",
              "      <td>0</td>\n",
              "      <td>9</td>\n",
              "      <td>2008</td>\n",
              "    </tr>\n",
              "    <tr>\n",
              "      <th>4</th>\n",
              "      <td>70</td>\n",
              "      <td>60.0</td>\n",
              "      <td>9550</td>\n",
              "      <td>7</td>\n",
              "      <td>5</td>\n",
              "      <td>1915</td>\n",
              "      <td>1970</td>\n",
              "      <td>0.0</td>\n",
              "      <td>216</td>\n",
              "      <td>0</td>\n",
              "      <td>540</td>\n",
              "      <td>756</td>\n",
              "      <td>961</td>\n",
              "      <td>756</td>\n",
              "      <td>0</td>\n",
              "      <td>1717</td>\n",
              "      <td>1</td>\n",
              "      <td>0</td>\n",
              "      <td>1</td>\n",
              "      <td>0</td>\n",
              "      <td>3</td>\n",
              "      <td>1</td>\n",
              "      <td>7</td>\n",
              "      <td>1</td>\n",
              "      <td>1998.0</td>\n",
              "      <td>3</td>\n",
              "      <td>642</td>\n",
              "      <td>0</td>\n",
              "      <td>35</td>\n",
              "      <td>272</td>\n",
              "      <td>0</td>\n",
              "      <td>0</td>\n",
              "      <td>0</td>\n",
              "      <td>0</td>\n",
              "      <td>2</td>\n",
              "      <td>2006</td>\n",
              "    </tr>\n",
              "    <tr>\n",
              "      <th>5</th>\n",
              "      <td>60</td>\n",
              "      <td>84.0</td>\n",
              "      <td>14260</td>\n",
              "      <td>8</td>\n",
              "      <td>5</td>\n",
              "      <td>2000</td>\n",
              "      <td>2000</td>\n",
              "      <td>350.0</td>\n",
              "      <td>655</td>\n",
              "      <td>0</td>\n",
              "      <td>490</td>\n",
              "      <td>1145</td>\n",
              "      <td>1145</td>\n",
              "      <td>1053</td>\n",
              "      <td>0</td>\n",
              "      <td>2198</td>\n",
              "      <td>1</td>\n",
              "      <td>0</td>\n",
              "      <td>2</td>\n",
              "      <td>1</td>\n",
              "      <td>4</td>\n",
              "      <td>1</td>\n",
              "      <td>9</td>\n",
              "      <td>1</td>\n",
              "      <td>2000.0</td>\n",
              "      <td>3</td>\n",
              "      <td>836</td>\n",
              "      <td>192</td>\n",
              "      <td>84</td>\n",
              "      <td>0</td>\n",
              "      <td>0</td>\n",
              "      <td>0</td>\n",
              "      <td>0</td>\n",
              "      <td>0</td>\n",
              "      <td>12</td>\n",
              "      <td>2008</td>\n",
              "    </tr>\n",
              "  </tbody>\n",
              "</table>\n",
              "</div>"
            ],
            "text/plain": [
              "    MSSubClass  LotFrontage  LotArea  ...  MiscVal  MoSold  YrSold\n",
              "Id                                    ...                         \n",
              "1           60         65.0     8450  ...        0       2    2008\n",
              "2           20         80.0     9600  ...        0       5    2007\n",
              "3           60         68.0    11250  ...        0       9    2008\n",
              "4           70         60.0     9550  ...        0       2    2006\n",
              "5           60         84.0    14260  ...        0      12    2008\n",
              "\n",
              "[5 rows x 36 columns]"
            ]
          },
          "metadata": {
            "tags": []
          },
          "execution_count": 14
        }
      ]
    },
    {
      "cell_type": "markdown",
      "metadata": {
        "id": "e1kohuniRkKD"
      },
      "source": [
        "#### 2. Develop the Pipeline\r\n",
        "\r\n",
        "---\r\n",
        "\r\n",
        "In this section, a pipeline containing preprocessing and model development will be created. "
      ]
    },
    {
      "cell_type": "markdown",
      "metadata": {
        "id": "TaQR9vOWRuSS"
      },
      "source": [
        "As only numerical data is being used, the setup of this pipeline is simple. The preprocessing step of the pipeline only consists of the SimpleImputer() function found in sklearn. The model will consist of a RandomForestRegressor using 50 estimators. "
      ]
    },
    {
      "cell_type": "code",
      "metadata": {
        "id": "LGcgdN78U7pZ"
      },
      "source": [
        "# Define Preprocessor\r\n",
        "preprocessor = SimpleImputer()\r\n",
        "\r\n",
        "# Define Model\r\n",
        "model = RandomForestRegressor(n_estimators = 50, random_state = 0)\r\n",
        "\r\n",
        "# Consolidate Preprocessing and Model Development\r\n",
        "my_pipe = Pipeline(steps = [('preprocessor', preprocessor),\r\n",
        "                            ('model', model)])"
      ],
      "execution_count": null,
      "outputs": []
    },
    {
      "cell_type": "markdown",
      "metadata": {
        "id": "wmRDSSxrnWri"
      },
      "source": [
        "#### 3. Performing Cross-Validation\r\n",
        "\r\n",
        "\r\n",
        "---\r\n",
        "\r\n",
        "After having created the pipeline, it can be used for cross-validation. "
      ]
    },
    {
      "cell_type": "code",
      "metadata": {
        "colab": {
          "base_uri": "https://localhost:8080/"
        },
        "id": "9SGYBGwknfl7",
        "outputId": "1b155290-cc0e-4512-a0b9-955bfa202465"
      },
      "source": [
        "# Multiply the result with -1, since sklearn calculates a negative MAE\r\n",
        "scores = -1 * cross_val_score(my_pipe, X, y, \r\n",
        "                              cv = 5, scoring = 'neg_mean_absolute_error')\r\n",
        "\r\n",
        "# Average over all scores to get the mean score over all folds\r\n",
        "print('Average MAE score for CV:', scores.mean())"
      ],
      "execution_count": null,
      "outputs": [
        {
          "output_type": "stream",
          "text": [
            "Average MAE score for CV: 18276.410356164386\n"
          ],
          "name": "stdout"
        }
      ]
    },
    {
      "cell_type": "markdown",
      "metadata": {
        "id": "IgzBC11GqRdE"
      },
      "source": [
        "#### 4. Writing a function that consolidates the pipeline and cross-validation.\r\n",
        "\r\n",
        "---\r\n",
        "\r\n"
      ]
    },
    {
      "cell_type": "markdown",
      "metadata": {
        "id": "AK41ZCjf1mUn"
      },
      "source": [
        "##### 4.1 Function Definition"
      ]
    },
    {
      "cell_type": "code",
      "metadata": {
        "id": "y4NtHMYYqZRR"
      },
      "source": [
        "# This function contains both the pipeline statement as well as the cross-validation\r\n",
        "def get_score(n_estimators, X, y):\r\n",
        "    \r\n",
        "    ### Pipeline\r\n",
        "    # Preprocessor\r\n",
        "    preprocessor = SimpleImputer()\r\n",
        "    \r\n",
        "    # Model\r\n",
        "    model = RandomForestRegressor(n_estimators = n_estimators, random_state = 0)\r\n",
        "    \r\n",
        "    # Pipeline Statement\r\n",
        "    my_pipe = Pipeline(steps = [('preprocessor', preprocessor), \r\n",
        "                                ('model', model)])\r\n",
        "    \r\n",
        "    ### Cross-Validation\r\n",
        "    scores = -1 * cross_val_score(my_pipe, X, y,\r\n",
        "                                 cv = 3, scoring = 'neg_mean_absolute_error')\r\n",
        "\r\n",
        "    return (scores.mean())"
      ],
      "execution_count": null,
      "outputs": []
    },
    {
      "cell_type": "markdown",
      "metadata": {
        "id": "BKAV9_eS1pXv"
      },
      "source": [
        "##### 4.2. Function Application"
      ]
    },
    {
      "cell_type": "code",
      "metadata": {
        "id": "9ljzA8FZttF4"
      },
      "source": [
        "# Iterating over the number of estimators allows a comparison of model performance\r\n",
        "results = []\r\n",
        "no_estimators = np.linspace(50,400,8,endpoint = True, dtype = 'Int64')\r\n",
        "\r\n",
        "# Loop over the number of estimators and run the cross-validation-pipeline\r\n",
        "for i in no_estimators:\r\n",
        "  results.append(get_score(i,X,y))"
      ],
      "execution_count": null,
      "outputs": []
    },
    {
      "cell_type": "markdown",
      "metadata": {
        "id": "bfDK8YnT1sjt"
      },
      "source": [
        "##### 4.3 Display of Results"
      ]
    },
    {
      "cell_type": "code",
      "metadata": {
        "colab": {
          "base_uri": "https://localhost:8080/",
          "height": 295
        },
        "id": "EBMhZVH01vNC",
        "outputId": "de7595c5-a4c8-426b-e14c-62621c1bb4d4"
      },
      "source": [
        "# The results of the hyperparameter tuning are shown below\r\n",
        "plt.plot(no_estimators, results)\r\n",
        "plt.xlabel('Number of Estimators')\r\n",
        "plt.ylabel('MAE')\r\n",
        "plt.title('MAE of Random Forest Regression Model')\r\n",
        "plt.show()"
      ],
      "execution_count": null,
      "outputs": [
        {
          "output_type": "display_data",
          "data": {
            "image/png": "[encoded data removed]",
            "text/plain": [
              "<Figure size 432x288 with 1 Axes>"
            ]
          },
          "metadata": {
            "tags": [],
            "needs_background": "light"
          }
        }
      ]
    },
    {
      "cell_type": "markdown",
      "metadata": {
        "id": "6ne-A0rX3iMD"
      },
      "source": [
        "##### 4.4 Optimal Hyperparameter"
      ]
    },
    {
      "cell_type": "code",
      "metadata": {
        "colab": {
          "base_uri": "https://localhost:8080/"
        },
        "id": "cxKZeVKn3k5O",
        "outputId": "4e7e0fe1-eea6-442d-985a-f209da8fe983"
      },
      "source": [
        "# The optimal n_estimator value can be computed as follows\r\n",
        "opt_hyper = no_estimators[results.index(min(results))]\r\n",
        "\r\n",
        "print('The optimal number of estimators is:', opt_hyper)"
      ],
      "execution_count": null,
      "outputs": [
        {
          "output_type": "stream",
          "text": [
            "The optimal number of estimators is: 200\n"
          ],
          "name": "stdout"
        }
      ]
    }
  ]
}