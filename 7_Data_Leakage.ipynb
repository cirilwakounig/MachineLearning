{
  "nbformat": 4,
  "nbformat_minor": 0,
  "metadata": {
    "colab": {
      "name": "7. Data Leakage",
      "provenance": [],
      "collapsed_sections": [],
      "mount_file_id": "1i5KJfGP0074uyY94fJDqp2JtIf9kSEJb",
      "authorship_tag": "ABX9TyNjvyrYdMov1ELVdM26asOX",
      "include_colab_link": true
    },
    "kernelspec": {
      "name": "python3",
      "display_name": "Python 3"
    }
  },
  "cells": [
    {
      "cell_type": "markdown",
      "metadata": {
        "id": "view-in-github",
        "colab_type": "text"
      },
      "source": [
        "<a href=\"https://colab.research.google.com/github/cirilwakounig/MachineLearning/blob/main/7_Data_Leakage.ipynb\" target=\"_parent\"><img src=\"https://colab.research.google.com/assets/colab-badge.svg\" alt=\"Open In Colab\"/></a>"
      ]
    },
    {
      "cell_type": "markdown",
      "metadata": {
        "id": "5R2dhojzKmuC"
      },
      "source": [
        "# Data Leakage\r\n",
        "\r\n",
        "This script shows, how to deal with data leakage and is based on the tutorial provided by Kaggle.\r\n",
        "\r\n",
        "Data leakage happens, when you training data contains information about the target, but similar data will not be available when the model is used for prediction. \r\n",
        "\r\n",
        "There are two different types of leakage:\r\n",
        "\r\n",
        "* **Target Leakage**: Occurs, when your features contain data, that will not be available at the time you make predictions. As an example, taking medicines against cancer heavily correlates with people having cancer, however in order to predict cancer, one cannot use this information, as they would not be already taking cancer medication. To prevent this type of data leakage, any variable updated (or created) after the target value is realised should be excluded. ![image.png](data:image/png;base64,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)\r\n",
        "* **Train-test Contamination**: Occurs when you aren't careful to distinguish training data from validation data. For example, imagine preprossing (e.g. fitting an imputer) before running test_train_split(). The model would get very good validation scores on the validation set, but not on a real world example. If the validation is based on any simple train-test split, exclude the validation data from any type of *fitting*, including the fitting of preprocessing steps. Using sklearn pipelines makes this easier, and pipelining is especially important when deploying cross validation data. \r\n"
      ]
    },
    {
      "cell_type": "code",
      "metadata": {
        "id": "7xvAALunuTkq"
      },
      "source": [
        "# Import the required Libraries\r\n",
        "import pandas as pd\r\n",
        "import numpy as np\r\n",
        "import matplotlib.pyplot as plt\r\n",
        "\r\n",
        "# Data Processing\r\n",
        "from sklearn.model_selection import train_test_split\r\n",
        "\r\n",
        "# Pipeling\r\n",
        "from sklearn.pipeline import make_pipeline\r\n",
        "\r\n",
        "# Validation\r\n",
        "from sklearn.ensemble import RandomForestClassifier\r\n",
        "from sklearn.model_selection import cross_val_score\r\n",
        "from sklearn.metrics import mean_absolute_error"
      ],
      "execution_count": null,
      "outputs": []
    },
    {
      "cell_type": "markdown",
      "metadata": {
        "id": "0vSa6KAMvtDf"
      },
      "source": [
        "#### 1. Import and Process the required Data\r\n",
        "\r\n",
        "---\r\n",
        "\r\n"
      ]
    },
    {
      "cell_type": "markdown",
      "metadata": {
        "id": "3MKjLmE-qskI"
      },
      "source": [
        "##### 1.1 Import of Data"
      ]
    },
    {
      "cell_type": "code",
      "metadata": {
        "id": "d1yKn1sdvxcL",
        "colab": {
          "base_uri": "https://localhost:8080/",
          "height": 220
        },
        "outputId": "d28852dc-684c-42be-eb21-2d516444c0c1"
      },
      "source": [
        "# Import the Data Set Set\r\n",
        "file_path = '/content/drive/MyDrive/Colab Notebooks/Kaggle Course/Intermediate Machine Learning/AER_credit_card_data.csv'\r\n",
        "\r\n",
        "\r\n",
        "# Read the data\r\n",
        "data = pd.read_csv(file_path, true_values= ['yes'], false_values=['no'])\r\n",
        "\r\n",
        "# Select Target\r\n",
        "y = data.card\r\n",
        "\r\n",
        "# Separate features from target\r\n",
        "X = data.drop(['card'], axis = 1)\r\n",
        "\r\n",
        "X.head()\r\n",
        "#X_train, X_val, y_train, y_val = train_test_split(X, y, train_size = 0.8,\r\n",
        "                                                  #test_size = 0.2, random_state = 0)"
      ],
      "execution_count": null,
      "outputs": [
        {
          "output_type": "execute_result",
          "data": {
            "text/html": [
              "<div>\n",
              "<style scoped>\n",
              "    .dataframe tbody tr th:only-of-type {\n",
              "        vertical-align: middle;\n",
              "    }\n",
              "\n",
              "    .dataframe tbody tr th {\n",
              "        vertical-align: top;\n",
              "    }\n",
              "\n",
              "    .dataframe thead th {\n",
              "        text-align: right;\n",
              "    }\n",
              "</style>\n",
              "<table border=\"1\" class=\"dataframe\">\n",
              "  <thead>\n",
              "    <tr style=\"text-align: right;\">\n",
              "      <th></th>\n",
              "      <th>reports</th>\n",
              "      <th>age</th>\n",
              "      <th>income</th>\n",
              "      <th>share</th>\n",
              "      <th>expenditure</th>\n",
              "      <th>owner</th>\n",
              "      <th>selfemp</th>\n",
              "      <th>dependents</th>\n",
              "      <th>months</th>\n",
              "      <th>majorcards</th>\n",
              "      <th>active</th>\n",
              "    </tr>\n",
              "  </thead>\n",
              "  <tbody>\n",
              "    <tr>\n",
              "      <th>0</th>\n",
              "      <td>0</td>\n",
              "      <td>37.66667</td>\n",
              "      <td>4.5200</td>\n",
              "      <td>0.033270</td>\n",
              "      <td>124.983300</td>\n",
              "      <td>True</td>\n",
              "      <td>False</td>\n",
              "      <td>3</td>\n",
              "      <td>54</td>\n",
              "      <td>1</td>\n",
              "      <td>12</td>\n",
              "    </tr>\n",
              "    <tr>\n",
              "      <th>1</th>\n",
              "      <td>0</td>\n",
              "      <td>33.25000</td>\n",
              "      <td>2.4200</td>\n",
              "      <td>0.005217</td>\n",
              "      <td>9.854167</td>\n",
              "      <td>False</td>\n",
              "      <td>False</td>\n",
              "      <td>3</td>\n",
              "      <td>34</td>\n",
              "      <td>1</td>\n",
              "      <td>13</td>\n",
              "    </tr>\n",
              "    <tr>\n",
              "      <th>2</th>\n",
              "      <td>0</td>\n",
              "      <td>33.66667</td>\n",
              "      <td>4.5000</td>\n",
              "      <td>0.004156</td>\n",
              "      <td>15.000000</td>\n",
              "      <td>True</td>\n",
              "      <td>False</td>\n",
              "      <td>4</td>\n",
              "      <td>58</td>\n",
              "      <td>1</td>\n",
              "      <td>5</td>\n",
              "    </tr>\n",
              "    <tr>\n",
              "      <th>3</th>\n",
              "      <td>0</td>\n",
              "      <td>30.50000</td>\n",
              "      <td>2.5400</td>\n",
              "      <td>0.065214</td>\n",
              "      <td>137.869200</td>\n",
              "      <td>False</td>\n",
              "      <td>False</td>\n",
              "      <td>0</td>\n",
              "      <td>25</td>\n",
              "      <td>1</td>\n",
              "      <td>7</td>\n",
              "    </tr>\n",
              "    <tr>\n",
              "      <th>4</th>\n",
              "      <td>0</td>\n",
              "      <td>32.16667</td>\n",
              "      <td>9.7867</td>\n",
              "      <td>0.067051</td>\n",
              "      <td>546.503300</td>\n",
              "      <td>True</td>\n",
              "      <td>False</td>\n",
              "      <td>2</td>\n",
              "      <td>64</td>\n",
              "      <td>1</td>\n",
              "      <td>5</td>\n",
              "    </tr>\n",
              "  </tbody>\n",
              "</table>\n",
              "</div>"
            ],
            "text/plain": [
              "   reports       age  income     share  ...  dependents  months  majorcards  active\n",
              "0        0  37.66667  4.5200  0.033270  ...           3      54           1      12\n",
              "1        0  33.25000  2.4200  0.005217  ...           3      34           1      13\n",
              "2        0  33.66667  4.5000  0.004156  ...           4      58           1       5\n",
              "3        0  30.50000  2.5400  0.065214  ...           0      25           1       7\n",
              "4        0  32.16667  9.7867  0.067051  ...           2      64           1       5\n",
              "\n",
              "[5 rows x 11 columns]"
            ]
          },
          "metadata": {
            "tags": []
          },
          "execution_count": 5
        }
      ]
    },
    {
      "cell_type": "markdown",
      "metadata": {
        "id": "e1kohuniRkKD"
      },
      "source": [
        "#### 2. Pipeline Development\r\n",
        "\r\n",
        "---\r\n",
        "\r\n",
        "Since this is a small dataset, we will have to apply cross validation. Cross validation is best performed using pipelines. However, since there is no preprocessing, a real pipeline is not necessary. \r\n"
      ]
    },
    {
      "cell_type": "code",
      "metadata": {
        "colab": {
          "base_uri": "https://localhost:8080/"
        },
        "id": "dWgE-Q9cvb70",
        "outputId": "71ae5abb-32e5-4060-a02d-62e30fca172a"
      },
      "source": [
        "# Automate pipeline generation\r\n",
        "my_pipe = make_pipeline(RandomForestClassifier(n_estimators=100))\r\n",
        "\r\n",
        "# Cross Validation\r\n",
        "cv_scores = cross_val_score(my_pipe, X, y, cv = 5, scoring = 'accuracy')\r\n",
        "\r\n",
        "# Print the mean of the scores\r\n",
        "print(\"Cross-validation accuracy: %f\" % cv_scores.mean())"
      ],
      "execution_count": null,
      "outputs": [
        {
          "output_type": "stream",
          "text": [
            "Cross-validation accuracy: 0.980294\n"
          ],
          "name": "stdout"
        }
      ]
    },
    {
      "cell_type": "markdown",
      "metadata": {
        "id": "iJ_i2LRK0OuP"
      },
      "source": [
        "With experience, you'll find that it's very rare to find models that are accurate 98% of the time. It happens, but it's uncommon enough that we should inspect the data more closely for target leakage."
      ]
    },
    {
      "cell_type": "markdown",
      "metadata": {
        "id": "FtcoOYTEHSxd"
      },
      "source": [
        "#### 3. Discussing Data Leakage\r\n",
        "\r\n",
        "---\r\n",
        "\r\n",
        "\r\n",
        "\r\n",
        "In order to check variables for data leakage, one needs to look at the different features.\r\n",
        "\r\n",
        "Here is a summary of the data, which you can also find under the data tab:\r\n",
        "\r\n",
        "* card: 1 if credit card application accepted, 0 if not\r\n",
        "* reports: Number of major derogatory reports\r\n",
        "* age: Age n years plus twelfths of a year\r\n",
        "* income: Yearly income (divided by 10,000)\r\n",
        "* share: Ratio of monthly credit card expenditure to yearly income\r\n",
        "* expenditure: Average monthly credit card expenditure\r\n",
        "* owner: 1 if owns home, 0 if rents\r\n",
        "* selfempl: 1 if self-employed, 0 if not\r\n",
        "* dependents: 1 + number of dependents\r\n",
        "* months: Months living at current address\r\n",
        "* majorcards: Number of major credit cards held\r\n",
        "* active: Number of active credit accounts\r\n",
        "\r\n",
        "A few variables look suspicious. For example, does expenditure mean expenditure on this card or on cards used before appying?\r\n",
        "\r\n",
        "At this point, basic data comparisons can be very helpful:\r\n"
      ]
    },
    {
      "cell_type": "code",
      "metadata": {
        "id": "LGcgdN78U7pZ",
        "colab": {
          "base_uri": "https://localhost:8080/"
        },
        "outputId": "89f4ba7f-7212-4ef2-8888-e00f0cb6d7e0"
      },
      "source": [
        "expenditures_cardholders = X.expenditure[y]\r\n",
        "expenditures_noncardholders = X.expenditure[~y]\r\n",
        "\r\n",
        "print('Fraction of those who did not receive a card and had no expenditures: %.2f' % (expenditures_noncardholders == 0).mean())\r\n",
        "print('Fraction of those who received a card and had no expenditures: %.2f' % (expenditures_cardholders == 0).mean())"
      ],
      "execution_count": null,
      "outputs": [
        {
          "output_type": "stream",
          "text": [
            "Fraction of those who did not receive a card and had no expenditures: 1.00\n",
            "Fraction of those who received a card and had no expenditures: 0.02\n"
          ],
          "name": "stdout"
        }
      ]
    },
    {
      "cell_type": "markdown",
      "metadata": {
        "id": "bKDZ0UlC2yAv"
      },
      "source": [
        "As shown above, everyone who did not receive a card, did not have any expenditures, while only 2% of those who received a card had no expenditures. It is not surprising that the model is very accurate. The parameter expenditures should be excluded. \r\n",
        "\r\n",
        "The parameter share is also determined by expenditure, it should be excluded as well. The variables active and majorcards are a little less clear, but from the description, they sound concerning. In most situations, it's better to be safe than sorry if you can't track down the people who created the data to find out more.\r\n",
        "\r\n",
        "Rerun the model without the features in question.\r\n",
        "\r\n"
      ]
    },
    {
      "cell_type": "code",
      "metadata": {
        "colab": {
          "base_uri": "https://localhost:8080/"
        },
        "id": "GTLPtI1_4cuF",
        "outputId": "9410e8c3-593b-417d-f2d0-cb84302fd383"
      },
      "source": [
        "# dropping features\r\n",
        "potential_leaks = [\"expenditure\", \"share\", \"active\", \"majorcards\"]\r\n",
        "X2 = X.drop(potential_leaks, axis = 1)\r\n",
        "\r\n",
        "# Evaluate the model without leaky features\r\n",
        "cv_scores = cross_val_score(my_pipe, X2, y, cv = 5, scoring = 'accuracy')\r\n",
        "\r\n",
        "print('Cross-Validation Accurarcy: %f' % cv_scores.mean())"
      ],
      "execution_count": null,
      "outputs": [
        {
          "output_type": "stream",
          "text": [
            "Cross-Validation Accurarcy: 0.828655\n"
          ],
          "name": "stdout"
        }
      ]
    },
    {
      "cell_type": "markdown",
      "metadata": {
        "id": "h_ffW267425Q"
      },
      "source": [
        "#### 4. Conclusion\r\n",
        "\r\n",
        "This accuracy is quite a bit lower, which might be disappointing. However, we can expect it to be right about 80% of the time when used on new applications, whereas the leaky model would likely do much worse than that (in spite of its higher apparent score in cross-validation).\r\n",
        "\r\n",
        "Data leakage can be multi-million dollar mistake in many data science applications. Careful separation of training and validation data can prevent train-test contamination, and pipelines can help implement this separation. Likewise, a combination of caution, common sense, and data exploration can help identify target leakage."
      ]
    }
  ]
}